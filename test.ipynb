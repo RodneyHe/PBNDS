{
 "cells": [
  {
   "cell_type": "code",
   "execution_count": null,
   "metadata": {},
   "outputs": [],
   "source": [
    "from models.decalib.deca import DECA\n",
    "from models.decalib.utils.config import cfg as deca_cfg\n",
    "from models.decalib.datasets.detectors import FAN\n",
    "import cv2 as cv\n",
    "import numpy as np\n",
    "import torch\n",
    "\n",
    "# Load FLAME model and DECA model\n",
    "deca_cfg['model']['flame_model_path'] = './pretrained/generic_model.pkl'\n",
    "deca_cfg['pretrained_modelpath'] = './pretrained/deca_model.tar'\n",
    "deca_cfg['model']['flame_lmk_embedding_path'] = './pretrained/landmark_embedding.npy'\n",
    "deca_cfg['model']['use_tex'] = False\n",
    "\n",
    "deca = DECA(config=deca_cfg)\n",
    "face_detector = FAN()"
   ]
  },
  {
   "cell_type": "code",
   "execution_count": 3,
   "metadata": {},
   "outputs": [],
   "source": [
    "def bbox2point(left, right, top, bottom, type='bbox'):\n",
    "    ''' bbox from detector and landmarks are different\n",
    "    '''\n",
    "    if type=='kpt68':\n",
    "        old_size = (right - left + bottom - top)/2*1.1\n",
    "        center = torch.tensor([right - (right - left) / 2.0, bottom - (bottom - top) / 2.0 ])\n",
    "    elif type=='bbox':\n",
    "        old_size = (right - left + bottom - top)/2\n",
    "        center = torch.tensor([right - (right - left) / 2.0, bottom - (bottom - top) / 2.0  + old_size*0.12])\n",
    "    else:\n",
    "        raise NotImplementedError\n",
    "    return old_size, center"
   ]
  },
  {
   "cell_type": "code",
   "execution_count": 9,
   "metadata": {},
   "outputs": [],
   "source": [
    "from skimage.transform import estimate_transform, warp\n",
    "\n",
    "image = cv.imread('rgb_47025.png', cv.IMREAD_UNCHANGED)\n",
    "        \n",
    "if len(image.shape) == 3:\n",
    "    if image.shape[2] == 4:\n",
    "        alpha_channel = image[...,3]\n",
    "        bgr_channels = image[...,:3]\n",
    "        rgb_channels = cv.cvtColor(bgr_channels, cv.COLOR_BGR2RGB)\n",
    "        \n",
    "        # White Background Image\n",
    "        background_image = np.zeros_like(rgb_channels, dtype=np.uint8)\n",
    "        \n",
    "        # Alpha factor\n",
    "        alpha_factor = alpha_channel[:,:,np.newaxis].astype(np.float32) / 255.\n",
    "        alpha_factor = np.concatenate((alpha_factor,alpha_factor,alpha_factor), axis=2)\n",
    "\n",
    "        # Transparent Image Rendered on White Background\n",
    "        base = rgb_channels * alpha_factor\n",
    "        background = background_image * (1 - alpha_factor)\n",
    "        image = base + background\n",
    "    else:\n",
    "        image = cv.cvtColor(image, cv.COLOR_BGR2RGB)\n",
    "\n",
    "bbox, bbox_type = face_detector.run(image)\n",
    "\n",
    "\n",
    "left = bbox[0]; right=bbox[2]\n",
    "top = bbox[1]; bottom=bbox[3]\n",
    "\n",
    "old_size, center = bbox2point(left, right, top, bottom, type=bbox_type)\n",
    "size = int(old_size*1.25)\n",
    "\n",
    "src_pts = np.array([[center[0]-size/2, center[1]-size/2], [center[0] - size/2, center[1]+size/2], [center[0]+size/2, center[1]-size/2]])\n",
    "\n",
    "DST_PTS = np.array([[0, 0], [0, 223], [223, 0]])\n",
    "tform = estimate_transform('similarity', src_pts, DST_PTS)\n",
    "\n",
    "image = image / 255.\n",
    "\n",
    "dst_image = warp(image, tform.inverse, output_shape=(224, 224))\n",
    "dst_image = dst_image.transpose(2,0,1)\n",
    "\n",
    "with torch.no_grad():\n",
    "    codedict = deca.encode(torch.tensor(dst_image).float().cuda()[None])\n",
    "    opdict, visdict = deca.decode(codedict)"
   ]
  },
  {
   "cell_type": "code",
   "execution_count": 10,
   "metadata": {},
   "outputs": [],
   "source": [
    "deca.save_obj('47025.obj', opdict)"
   ]
  }
 ],
 "metadata": {
  "kernelspec": {
   "display_name": "pbnds",
   "language": "python",
   "name": "python3"
  },
  "language_info": {
   "codemirror_mode": {
    "name": "ipython",
    "version": 3
   },
   "file_extension": ".py",
   "mimetype": "text/x-python",
   "name": "python",
   "nbconvert_exporter": "python",
   "pygments_lexer": "ipython3",
   "version": "3.9.18"
  }
 },
 "nbformat": 4,
 "nbformat_minor": 2
}
